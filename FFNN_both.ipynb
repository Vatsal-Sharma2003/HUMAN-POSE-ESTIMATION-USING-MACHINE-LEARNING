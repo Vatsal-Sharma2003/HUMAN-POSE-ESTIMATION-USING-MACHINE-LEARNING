{
 "cells": [
  {
   "cell_type": "code",
   "execution_count": 1,
   "metadata": {},
   "outputs": [
    {
     "name": "stderr",
     "output_type": "stream",
     "text": [
      "2024-08-23 13:10:51.401452: E external/local_xla/xla/stream_executor/cuda/cuda_fft.cc:485] Unable to register cuFFT factory: Attempting to register factory for plugin cuFFT when one has already been registered\n",
      "2024-08-23 13:10:51.418629: E external/local_xla/xla/stream_executor/cuda/cuda_dnn.cc:8454] Unable to register cuDNN factory: Attempting to register factory for plugin cuDNN when one has already been registered\n",
      "2024-08-23 13:10:51.423312: E external/local_xla/xla/stream_executor/cuda/cuda_blas.cc:1452] Unable to register cuBLAS factory: Attempting to register factory for plugin cuBLAS when one has already been registered\n",
      "2024-08-23 13:10:51.434369: I tensorflow/core/platform/cpu_feature_guard.cc:210] This TensorFlow binary is optimized to use available CPU instructions in performance-critical operations.\n",
      "To enable the following instructions: AVX2 FMA, in other operations, rebuild TensorFlow with the appropriate compiler flags.\n",
      "2024-08-23 13:10:52.375483: W tensorflow/compiler/tf2tensorrt/utils/py_utils.cc:38] TF-TRT Warning: Could not find TensorRT\n"
     ]
    }
   ],
   "source": [
    "import tensorflow as tf\n",
    "from tensorflow.keras.layers import Dense, Dropout, BatchNormalization, LeakyReLU\n",
    "from tensorflow.keras.regularizers import l2\n",
    "import tensorflow_hub as hub\n",
    "from tensorflow_docs.vis import embed\n",
    "import numpy as np\n",
    "import cv2\n",
    "\n",
    "import warnings\n",
    "warnings.simplefilter(action='ignore')\n",
    "\n",
    "import pandas as pd\n",
    "import platform\n",
    "\n",
    "# Import matplotlib libraries\n",
    "from matplotlib import pyplot as plt\n",
    "import seaborn as sns\n",
    "from matplotlib.collections import LineCollection\n",
    "import matplotlib.patches as patches\n",
    "\n",
    "# Some modules to display an animation using imageio.\n",
    "import imageio\n",
    "from IPython.display import HTML, display\n",
    "\n",
    "from sklearn.model_selection import KFold\n",
    "from sklearn.metrics import accuracy_score\n",
    "from sklearn.metrics import confusion_matrix\n",
    "\n",
    "import time"
   ]
  },
  {
   "cell_type": "code",
   "execution_count": 2,
   "metadata": {},
   "outputs": [
    {
     "name": "stdout",
     "output_type": "stream",
     "text": [
      "root directory is \n",
      "data directory is ../human_pose_local/archive/Human Action Recognition\n"
     ]
    }
   ],
   "source": [
    "if platform.system() == \"Darwin\":\n",
    "    root_directory = '/Users/lorenzobarbiero/Documents/GitHub/human_pose'\n",
    "    data_directory = '/Users/lorenzobarbiero/Desktop/Università/VCS/Human Action Recognition'\n",
    "else:\n",
    "    root_directory = ''\n",
    "    data_directory = '../human_pose_local/archive/Human Action Recognition'\n",
    "\n",
    "print('root directory is ' + root_directory)\n",
    "print('data directory is ' + data_directory)"
   ]
  },
  {
   "cell_type": "markdown",
   "metadata": {},
   "source": [
    "### Load the data"
   ]
  },
  {
   "cell_type": "code",
   "execution_count": 3,
   "metadata": {},
   "outputs": [],
   "source": [
    "# file_name = 'movenet_thunder_mobilenet_small'\n",
    "# file_name = 'movenet_lightning_mobilenet_large'\n",
    "# file_name = 'movenet_thunder_mobilenet_large'\n",
    "# file_name = 'movenet_lightning_mobilenet_small'"
   ]
  },
  {
   "cell_type": "code",
   "execution_count": 4,
   "metadata": {},
   "outputs": [],
   "source": [
    "file_name = \"movenet_thunder_mobilenet_large\""
   ]
  },
  {
   "cell_type": "code",
   "execution_count": 5,
   "metadata": {},
   "outputs": [],
   "source": [
    "df = pd.read_pickle(data_directory + '/' + file_name + '.pkl')"
   ]
  },
  {
   "cell_type": "code",
   "execution_count": 6,
   "metadata": {},
   "outputs": [],
   "source": [
    "# apply the function to the dataframe\n",
    "df['keypoints'] = df['keypoints'].apply(lambda x: np.array(x))\n",
    "df['object'] = df['object'].apply(lambda x: np.array(x).reshape(-1, 1))\n",
    "df['obj_vector'] = df['obj_vector'].apply(lambda x: np.array(x))\n",
    "df['category'] = df['category'].apply(lambda x: np.array(x))"
   ]
  },
  {
   "cell_type": "code",
   "execution_count": 7,
   "metadata": {},
   "outputs": [
    {
     "name": "stdout",
     "output_type": "stream",
     "text": [
      "keypoints shape:  (51,)\n",
      "object shape:  (5, 1)\n",
      "obj_vector shape:  (5, 100)\n"
     ]
    }
   ],
   "source": [
    "# shape of the data\n",
    "print('keypoints shape: ', df['keypoints'].iloc[0].shape)\n",
    "print('object shape: ', df['object'].iloc[0].shape)\n",
    "print('obj_vector shape: ', df['obj_vector'].iloc[0].shape)"
   ]
  },
  {
   "cell_type": "code",
   "execution_count": 8,
   "metadata": {},
   "outputs": [],
   "source": [
    "# set to 0 the keypoints with score < 0.3\n",
    "def filter_keypoints(x):\n",
    "    x[x[:, 2] < 0.3] = 0\n",
    "    return x\n",
    "\n",
    "# df['keypoints'] = df['keypoints'].apply(lambda x: filter_keypoints(x))\n",
    "\n",
    "# keep only the positions of the keypoints\n",
    "def get_positions(x):\n",
    "    return x[:, :2]\n",
    "\n",
    "# df['keypoints'] = df['keypoints'].apply(lambda x: get_positions(x))\n",
    "\n",
    "# set to 0 the object with score < 0.1\n",
    "def filter_object(x):\n",
    "    x[x[:, 0] < 0.1] = 0\n",
    "    return x\n",
    "\n",
    "# df['object'] = df['object'].apply(lambda x: filter_object(x))"
   ]
  },
  {
   "cell_type": "code",
   "execution_count": 9,
   "metadata": {},
   "outputs": [],
   "source": [
    "# number of object to consider\n",
    "n_objects = 5"
   ]
  },
  {
   "cell_type": "code",
   "execution_count": 10,
   "metadata": {},
   "outputs": [],
   "source": [
    "df['obj_input'] = df.apply(lambda x: np.sum(x['object'][-n_objects:]\n",
    "                                            *x['obj_vector'][-n_objects:], axis=0), axis=1)\n",
    "df['keypoints'] = df['keypoints'].apply(lambda x: x.flatten())"
   ]
  },
  {
   "cell_type": "code",
   "execution_count": 11,
   "metadata": {},
   "outputs": [
    {
     "data": {
      "text/html": [
       "<div>\n",
       "<style scoped>\n",
       "    .dataframe tbody tr th:only-of-type {\n",
       "        vertical-align: middle;\n",
       "    }\n",
       "\n",
       "    .dataframe tbody tr th {\n",
       "        vertical-align: top;\n",
       "    }\n",
       "\n",
       "    .dataframe thead th {\n",
       "        text-align: right;\n",
       "    }\n",
       "</style>\n",
       "<table border=\"1\" class=\"dataframe\">\n",
       "  <thead>\n",
       "    <tr style=\"text-align: right;\">\n",
       "      <th></th>\n",
       "      <th>filename</th>\n",
       "      <th>label</th>\n",
       "      <th>category</th>\n",
       "      <th>keypoints</th>\n",
       "      <th>object</th>\n",
       "      <th>obj_label</th>\n",
       "      <th>obj_vector</th>\n",
       "      <th>obj_words</th>\n",
       "      <th>obj_input</th>\n",
       "    </tr>\n",
       "  </thead>\n",
       "  <tbody>\n",
       "    <tr>\n",
       "      <th>0</th>\n",
       "      <td>Image_1.jpg</td>\n",
       "      <td>sitting</td>\n",
       "      <td>11</td>\n",
       "      <td>[0.0882076621055603, 0.6247615814208984, 0.756...</td>\n",
       "      <td>[[0.60480165], [0.04718776], [0.032203343], [0...</td>\n",
       "      <td>[697, 789, 822, 514, 614]</td>\n",
       "      <td>[[-0.28338998556137085, 0.4774399995803833, 0....</td>\n",
       "      <td>[[pajama], [shoji], [steel, drum], [cowboy, bo...</td>\n",
       "      <td>[-0.20592125285495, 0.3260203410991888, -0.008...</td>\n",
       "    </tr>\n",
       "    <tr>\n",
       "      <th>1</th>\n",
       "      <td>Image_2.jpg</td>\n",
       "      <td>using_laptop</td>\n",
       "      <td>14</td>\n",
       "      <td>[0.30178800225257874, 0.9912914037704468, 0.80...</td>\n",
       "      <td>[[0.7418762], [0.040941585], [0.012892539], [0...</td>\n",
       "      <td>[831, 416, 669, 697, 681]</td>\n",
       "      <td>[[0.3403800129890442, -0.9357600212097168, 1.1...</td>\n",
       "      <td>[[studio, couch], [balance, beam], [mosquito, ...</td>\n",
       "      <td>[0.2683790374652541, -0.6670002713657828, 0.87...</td>\n",
       "    </tr>\n",
       "    <tr>\n",
       "      <th>2</th>\n",
       "      <td>Image_3.jpg</td>\n",
       "      <td>hugging</td>\n",
       "      <td>7</td>\n",
       "      <td>[0.20708897709846497, 0.6019015908241272, 0.42...</td>\n",
       "      <td>[[0.1416007], [0.13604547], [0.05453948], [0.0...</td>\n",
       "      <td>[697, 522, 984, 529, 416]</td>\n",
       "      <td>[[-0.28338998556137085, 0.4774399995803833, 0....</td>\n",
       "      <td>[[pajama], [croquet, ball], [rapeseed], [diape...</td>\n",
       "      <td>[-0.02030288063444885, 0.23200371996866265, 0....</td>\n",
       "    </tr>\n",
       "    <tr>\n",
       "      <th>3</th>\n",
       "      <td>Image_4.jpg</td>\n",
       "      <td>sleeping</td>\n",
       "      <td>12</td>\n",
       "      <td>[0.37268558144569397, 0.1374012678861618, 0.20...</td>\n",
       "      <td>[[0.6505104], [0.06191667], [0.027490702], [0....</td>\n",
       "      <td>[678, 691, 680, 529, 823]</td>\n",
       "      <td>[[-1.2170699834823608, -0.12339100241661072, -...</td>\n",
       "      <td>[[neck, brace], [oxygen, mask], [nipple], [dia...</td>\n",
       "      <td>[-0.8215984234954313, -0.02994576481942718, -0...</td>\n",
       "    </tr>\n",
       "    <tr>\n",
       "      <th>4</th>\n",
       "      <td>Image_5.jpg</td>\n",
       "      <td>using_laptop</td>\n",
       "      <td>14</td>\n",
       "      <td>[0.03276867792010307, 0.2222181260585785, 0.79...</td>\n",
       "      <td>[[0.71057284], [0.10088889], [0.035408325], [0...</td>\n",
       "      <td>[490, 655, 689, 824, 601]</td>\n",
       "      <td>[[-0.1615300178527832, -0.205020010471344, -0....</td>\n",
       "      <td>[[chain, mail], [miniskirt], [overskirt], [sto...</td>\n",
       "      <td>[-0.1494515264241883, -0.1284101833971808, -0....</td>\n",
       "    </tr>\n",
       "    <tr>\n",
       "      <th>...</th>\n",
       "      <td>...</td>\n",
       "      <td>...</td>\n",
       "      <td>...</td>\n",
       "      <td>...</td>\n",
       "      <td>...</td>\n",
       "      <td>...</td>\n",
       "      <td>...</td>\n",
       "      <td>...</td>\n",
       "      <td>...</td>\n",
       "    </tr>\n",
       "    <tr>\n",
       "      <th>12595</th>\n",
       "      <td>Image_12596.jpg</td>\n",
       "      <td>sitting</td>\n",
       "      <td>11</td>\n",
       "      <td>[0.04209192469716072, 0.7099579572677612, 0.58...</td>\n",
       "      <td>[[0.23895389], [0.14317973], [0.076097175], [0...</td>\n",
       "      <td>[706, 905, 624, 559, 831]</td>\n",
       "      <td>[[-0.399260014295578, 0.13120000064373016, -0....</td>\n",
       "      <td>[[patio], [window, shade], [library], [folding...</td>\n",
       "      <td>[-0.14739882579379793, 0.2794763101199509, -0....</td>\n",
       "    </tr>\n",
       "    <tr>\n",
       "      <th>12596</th>\n",
       "      <td>Image_12597.jpg</td>\n",
       "      <td>clapping</td>\n",
       "      <td>1</td>\n",
       "      <td>[0.06415694206953049, 0.705790638923645, 0.468...</td>\n",
       "      <td>[[0.8603377], [0.021510318], [0.016789775], [0...</td>\n",
       "      <td>[617, 823, 678, 904, 905]</td>\n",
       "      <td>[[0.10435998439788818, 0.29162999987602234, 0....</td>\n",
       "      <td>[[lab, coat], [stethoscope], [neck, brace], [w...</td>\n",
       "      <td>[0.057619909586660134, 0.26067134955875726, 0....</td>\n",
       "    </tr>\n",
       "    <tr>\n",
       "      <th>12597</th>\n",
       "      <td>Image_12598.jpg</td>\n",
       "      <td>sitting</td>\n",
       "      <td>11</td>\n",
       "      <td>[0.051420778036117554, 0.4904737174510956, 0.5...</td>\n",
       "      <td>[[0.48068434], [0.07919033], [0.043129846], [0...</td>\n",
       "      <td>[608, 743, 843, 487, 543]</td>\n",
       "      <td>[[-0.13323000073432922, -0.6275100111961365, -...</td>\n",
       "      <td>[[jean], [prison], [swing], [cellular, telepho...</td>\n",
       "      <td>[-0.001942008389194727, -0.2787240437545768, -...</td>\n",
       "    </tr>\n",
       "    <tr>\n",
       "      <th>12598</th>\n",
       "      <td>Image_12599.jpg</td>\n",
       "      <td>dancing</td>\n",
       "      <td>3</td>\n",
       "      <td>[0.2283279001712799, 0.42992380261421204, 0.62...</td>\n",
       "      <td>[[0.15199172], [0.068358354], [0.059058633], [...</td>\n",
       "      <td>[416, 615, 747, 617, 587]</td>\n",
       "      <td>[[0.5044400095939636, 0.536300003528595, -0.07...</td>\n",
       "      <td>[[balance, beam], [knee, pad], [punching, bag]...</td>\n",
       "      <td>[0.014005273690095521, 0.06621338508228547, -0...</td>\n",
       "    </tr>\n",
       "    <tr>\n",
       "      <th>12599</th>\n",
       "      <td>Image_12600.jpg</td>\n",
       "      <td>listening_to_music</td>\n",
       "      <td>9</td>\n",
       "      <td>[0.06235136091709137, 0.48506712913513184, 0.6...</td>\n",
       "      <td>[[0.15408227], [0.06603773], [0.04880316], [0....</td>\n",
       "      <td>[487, 761, 499, 590, 681]</td>\n",
       "      <td>[[0.3064900040626526, -1.0355499982833862, 0.5...</td>\n",
       "      <td>[[cellular, telephone], [remote, control], [cl...</td>\n",
       "      <td>[-0.06236077945300844, -0.20720561142084326, 0...</td>\n",
       "    </tr>\n",
       "  </tbody>\n",
       "</table>\n",
       "<p>12600 rows × 9 columns</p>\n",
       "</div>"
      ],
      "text/plain": [
       "              filename               label  category  \\\n",
       "0          Image_1.jpg             sitting        11   \n",
       "1          Image_2.jpg        using_laptop        14   \n",
       "2          Image_3.jpg             hugging         7   \n",
       "3          Image_4.jpg            sleeping        12   \n",
       "4          Image_5.jpg        using_laptop        14   \n",
       "...                ...                 ...       ...   \n",
       "12595  Image_12596.jpg             sitting        11   \n",
       "12596  Image_12597.jpg            clapping         1   \n",
       "12597  Image_12598.jpg             sitting        11   \n",
       "12598  Image_12599.jpg             dancing         3   \n",
       "12599  Image_12600.jpg  listening_to_music         9   \n",
       "\n",
       "                                               keypoints  \\\n",
       "0      [0.0882076621055603, 0.6247615814208984, 0.756...   \n",
       "1      [0.30178800225257874, 0.9912914037704468, 0.80...   \n",
       "2      [0.20708897709846497, 0.6019015908241272, 0.42...   \n",
       "3      [0.37268558144569397, 0.1374012678861618, 0.20...   \n",
       "4      [0.03276867792010307, 0.2222181260585785, 0.79...   \n",
       "...                                                  ...   \n",
       "12595  [0.04209192469716072, 0.7099579572677612, 0.58...   \n",
       "12596  [0.06415694206953049, 0.705790638923645, 0.468...   \n",
       "12597  [0.051420778036117554, 0.4904737174510956, 0.5...   \n",
       "12598  [0.2283279001712799, 0.42992380261421204, 0.62...   \n",
       "12599  [0.06235136091709137, 0.48506712913513184, 0.6...   \n",
       "\n",
       "                                                  object  \\\n",
       "0      [[0.60480165], [0.04718776], [0.032203343], [0...   \n",
       "1      [[0.7418762], [0.040941585], [0.012892539], [0...   \n",
       "2      [[0.1416007], [0.13604547], [0.05453948], [0.0...   \n",
       "3      [[0.6505104], [0.06191667], [0.027490702], [0....   \n",
       "4      [[0.71057284], [0.10088889], [0.035408325], [0...   \n",
       "...                                                  ...   \n",
       "12595  [[0.23895389], [0.14317973], [0.076097175], [0...   \n",
       "12596  [[0.8603377], [0.021510318], [0.016789775], [0...   \n",
       "12597  [[0.48068434], [0.07919033], [0.043129846], [0...   \n",
       "12598  [[0.15199172], [0.068358354], [0.059058633], [...   \n",
       "12599  [[0.15408227], [0.06603773], [0.04880316], [0....   \n",
       "\n",
       "                       obj_label  \\\n",
       "0      [697, 789, 822, 514, 614]   \n",
       "1      [831, 416, 669, 697, 681]   \n",
       "2      [697, 522, 984, 529, 416]   \n",
       "3      [678, 691, 680, 529, 823]   \n",
       "4      [490, 655, 689, 824, 601]   \n",
       "...                          ...   \n",
       "12595  [706, 905, 624, 559, 831]   \n",
       "12596  [617, 823, 678, 904, 905]   \n",
       "12597  [608, 743, 843, 487, 543]   \n",
       "12598  [416, 615, 747, 617, 587]   \n",
       "12599  [487, 761, 499, 590, 681]   \n",
       "\n",
       "                                              obj_vector  \\\n",
       "0      [[-0.28338998556137085, 0.4774399995803833, 0....   \n",
       "1      [[0.3403800129890442, -0.9357600212097168, 1.1...   \n",
       "2      [[-0.28338998556137085, 0.4774399995803833, 0....   \n",
       "3      [[-1.2170699834823608, -0.12339100241661072, -...   \n",
       "4      [[-0.1615300178527832, -0.205020010471344, -0....   \n",
       "...                                                  ...   \n",
       "12595  [[-0.399260014295578, 0.13120000064373016, -0....   \n",
       "12596  [[0.10435998439788818, 0.29162999987602234, 0....   \n",
       "12597  [[-0.13323000073432922, -0.6275100111961365, -...   \n",
       "12598  [[0.5044400095939636, 0.536300003528595, -0.07...   \n",
       "12599  [[0.3064900040626526, -1.0355499982833862, 0.5...   \n",
       "\n",
       "                                               obj_words  \\\n",
       "0      [[pajama], [shoji], [steel, drum], [cowboy, bo...   \n",
       "1      [[studio, couch], [balance, beam], [mosquito, ...   \n",
       "2      [[pajama], [croquet, ball], [rapeseed], [diape...   \n",
       "3      [[neck, brace], [oxygen, mask], [nipple], [dia...   \n",
       "4      [[chain, mail], [miniskirt], [overskirt], [sto...   \n",
       "...                                                  ...   \n",
       "12595  [[patio], [window, shade], [library], [folding...   \n",
       "12596  [[lab, coat], [stethoscope], [neck, brace], [w...   \n",
       "12597  [[jean], [prison], [swing], [cellular, telepho...   \n",
       "12598  [[balance, beam], [knee, pad], [punching, bag]...   \n",
       "12599  [[cellular, telephone], [remote, control], [cl...   \n",
       "\n",
       "                                               obj_input  \n",
       "0      [-0.20592125285495, 0.3260203410991888, -0.008...  \n",
       "1      [0.2683790374652541, -0.6670002713657828, 0.87...  \n",
       "2      [-0.02030288063444885, 0.23200371996866265, 0....  \n",
       "3      [-0.8215984234954313, -0.02994576481942718, -0...  \n",
       "4      [-0.1494515264241883, -0.1284101833971808, -0....  \n",
       "...                                                  ...  \n",
       "12595  [-0.14739882579379793, 0.2794763101199509, -0....  \n",
       "12596  [0.057619909586660134, 0.26067134955875726, 0....  \n",
       "12597  [-0.001942008389194727, -0.2787240437545768, -...  \n",
       "12598  [0.014005273690095521, 0.06621338508228547, -0...  \n",
       "12599  [-0.06236077945300844, -0.20720561142084326, 0...  \n",
       "\n",
       "[12600 rows x 9 columns]"
      ]
     },
     "execution_count": 11,
     "metadata": {},
     "output_type": "execute_result"
    }
   ],
   "source": [
    "df"
   ]
  },
  {
   "cell_type": "markdown",
   "metadata": {},
   "source": [
    "### Training-Test split"
   ]
  },
  {
   "cell_type": "code",
   "execution_count": 12,
   "metadata": {},
   "outputs": [],
   "source": [
    "def train_test_split_df(df, test_perc): \n",
    "\n",
    "    n_classes = df['category'].nunique()\n",
    "    n_samples = int(len(df)*test_perc/n_classes)\n",
    "    test_df = df.groupby('category').apply(lambda x: x.sample(n_samples)).reset_index(drop=True)\n",
    "\n",
    "    # split the dataframe in train and test by the column 'filename'\n",
    "    train_df = df[~df['filename'].isin(test_df['filename'])]\n",
    "\n",
    "    return train_df, test_df"
   ]
  },
  {
   "cell_type": "code",
   "execution_count": 13,
   "metadata": {},
   "outputs": [],
   "source": [
    "train_df, test_df = train_test_split_df(df, 0.2)"
   ]
  },
  {
   "cell_type": "markdown",
   "metadata": {},
   "source": [
    "### Tensorflow Dataset"
   ]
  },
  {
   "cell_type": "code",
   "execution_count": 14,
   "metadata": {},
   "outputs": [],
   "source": [
    "def create_dataset(df, batch_size, use_object=True, use_kpoints=True):\n",
    "    \n",
    "    labels = df['category']\n",
    "    \n",
    "    kpoints = df['keypoints']\n",
    "\n",
    "    if use_object and use_kpoints:\n",
    "        df['input'] = df.apply(lambda x: np.concatenate((x['keypoints'], x['obj_input'])), axis=1)\n",
    "    elif use_kpoints:\n",
    "        df['input'] = df['keypoints']\n",
    "    elif use_object:\n",
    "        df['input'] = df['obj_input']\n",
    "    else:\n",
    "        print('error: no input selected')\n",
    "        return\n",
    "    \n",
    "    input_shape = df['input'].iloc[0].shape\n",
    "\n",
    "    data = np.zeros((len(kpoints), input_shape[0]), dtype=np.float32)\n",
    "    \n",
    "    for i, row in enumerate(df['input']): \n",
    "        data[i,:] = np.array(row).astype(np.float32)\n",
    "        \n",
    "    dataset = tf.data.Dataset.from_tensor_slices((data, labels))\n",
    "    \n",
    "    dataset = dataset.batch(batch_size = batch_size)\n",
    "    \n",
    "    return dataset, input_shape"
   ]
  },
  {
   "cell_type": "markdown",
   "metadata": {},
   "source": [
    "### Define the model"
   ]
  },
  {
   "cell_type": "code",
   "execution_count": 15,
   "metadata": {},
   "outputs": [],
   "source": [
    "#BEST ONE\n",
    "def create_model(input_shape, summary=False):\n",
    "    \n",
    "    model = tf.keras.Sequential([\n",
    "            tf.keras.Input(shape=input_shape),\n",
    "            tf.keras.layers.Dense(128, activation='leaky_relu'),\n",
    "            tf.keras.layers.Dropout(0.4),\n",
    "            tf.keras.layers.Dense(64, activation='leaky_relu'),\n",
    "            tf.keras.layers.Dropout(0.2),\n",
    "            tf.keras.layers.Dense(64, activation='leaky_relu'),\n",
    "            tf.keras.layers.Dropout(0.2),\n",
    "            tf.keras.layers.Dense(32, activation='leaky_relu'),\n",
    "            tf.keras.layers.Dense(32, activation='leaky_relu'),\n",
    "            tf.keras.layers.Dense(15, activation='softmax')\n",
    "        ])\n",
    "\n",
    "    model.compile(optimizer='adam',\n",
    "                  loss='sparse_categorical_crossentropy',\n",
    "                  metrics=['accuracy'])\n",
    "    \n",
    "    if summary:\n",
    "        model.summary()\n",
    "    \n",
    "    return model"
   ]
  },
  {
   "cell_type": "code",
   "execution_count": 16,
   "metadata": {
    "scrolled": false
   },
   "outputs": [
    {
     "data": {
      "text/html": [
       "<pre style=\"white-space:pre;overflow-x:auto;line-height:normal;font-family:Menlo,'DejaVu Sans Mono',consolas,'Courier New',monospace\"><span style=\"font-weight: bold\">Model: \"sequential\"</span>\n",
       "</pre>\n"
      ],
      "text/plain": [
       "\u001b[1mModel: \"sequential\"\u001b[0m\n"
      ]
     },
     "metadata": {},
     "output_type": "display_data"
    },
    {
     "data": {
      "text/html": [
       "<pre style=\"white-space:pre;overflow-x:auto;line-height:normal;font-family:Menlo,'DejaVu Sans Mono',consolas,'Courier New',monospace\">┏━━━━━━━━━━━━━━━━━━━━━━━━━━━━━━━━━┳━━━━━━━━━━━━━━━━━━━━━━━━┳━━━━━━━━━━━━━━━┓\n",
       "┃<span style=\"font-weight: bold\"> Layer (type)                    </span>┃<span style=\"font-weight: bold\"> Output Shape           </span>┃<span style=\"font-weight: bold\">       Param # </span>┃\n",
       "┡━━━━━━━━━━━━━━━━━━━━━━━━━━━━━━━━━╇━━━━━━━━━━━━━━━━━━━━━━━━╇━━━━━━━━━━━━━━━┩\n",
       "│ dense (<span style=\"color: #0087ff; text-decoration-color: #0087ff\">Dense</span>)                   │ (<span style=\"color: #00d7ff; text-decoration-color: #00d7ff\">None</span>, <span style=\"color: #00af00; text-decoration-color: #00af00\">128</span>)            │           <span style=\"color: #00af00; text-decoration-color: #00af00\">256</span> │\n",
       "├─────────────────────────────────┼────────────────────────┼───────────────┤\n",
       "│ dropout (<span style=\"color: #0087ff; text-decoration-color: #0087ff\">Dropout</span>)               │ (<span style=\"color: #00d7ff; text-decoration-color: #00d7ff\">None</span>, <span style=\"color: #00af00; text-decoration-color: #00af00\">128</span>)            │             <span style=\"color: #00af00; text-decoration-color: #00af00\">0</span> │\n",
       "├─────────────────────────────────┼────────────────────────┼───────────────┤\n",
       "│ dense_1 (<span style=\"color: #0087ff; text-decoration-color: #0087ff\">Dense</span>)                 │ (<span style=\"color: #00d7ff; text-decoration-color: #00d7ff\">None</span>, <span style=\"color: #00af00; text-decoration-color: #00af00\">64</span>)             │         <span style=\"color: #00af00; text-decoration-color: #00af00\">8,256</span> │\n",
       "├─────────────────────────────────┼────────────────────────┼───────────────┤\n",
       "│ dropout_1 (<span style=\"color: #0087ff; text-decoration-color: #0087ff\">Dropout</span>)             │ (<span style=\"color: #00d7ff; text-decoration-color: #00d7ff\">None</span>, <span style=\"color: #00af00; text-decoration-color: #00af00\">64</span>)             │             <span style=\"color: #00af00; text-decoration-color: #00af00\">0</span> │\n",
       "├─────────────────────────────────┼────────────────────────┼───────────────┤\n",
       "│ dense_2 (<span style=\"color: #0087ff; text-decoration-color: #0087ff\">Dense</span>)                 │ (<span style=\"color: #00d7ff; text-decoration-color: #00d7ff\">None</span>, <span style=\"color: #00af00; text-decoration-color: #00af00\">64</span>)             │         <span style=\"color: #00af00; text-decoration-color: #00af00\">4,160</span> │\n",
       "├─────────────────────────────────┼────────────────────────┼───────────────┤\n",
       "│ dropout_2 (<span style=\"color: #0087ff; text-decoration-color: #0087ff\">Dropout</span>)             │ (<span style=\"color: #00d7ff; text-decoration-color: #00d7ff\">None</span>, <span style=\"color: #00af00; text-decoration-color: #00af00\">64</span>)             │             <span style=\"color: #00af00; text-decoration-color: #00af00\">0</span> │\n",
       "├─────────────────────────────────┼────────────────────────┼───────────────┤\n",
       "│ dense_3 (<span style=\"color: #0087ff; text-decoration-color: #0087ff\">Dense</span>)                 │ (<span style=\"color: #00d7ff; text-decoration-color: #00d7ff\">None</span>, <span style=\"color: #00af00; text-decoration-color: #00af00\">32</span>)             │         <span style=\"color: #00af00; text-decoration-color: #00af00\">2,080</span> │\n",
       "├─────────────────────────────────┼────────────────────────┼───────────────┤\n",
       "│ dense_4 (<span style=\"color: #0087ff; text-decoration-color: #0087ff\">Dense</span>)                 │ (<span style=\"color: #00d7ff; text-decoration-color: #00d7ff\">None</span>, <span style=\"color: #00af00; text-decoration-color: #00af00\">32</span>)             │         <span style=\"color: #00af00; text-decoration-color: #00af00\">1,056</span> │\n",
       "├─────────────────────────────────┼────────────────────────┼───────────────┤\n",
       "│ dense_5 (<span style=\"color: #0087ff; text-decoration-color: #0087ff\">Dense</span>)                 │ (<span style=\"color: #00d7ff; text-decoration-color: #00d7ff\">None</span>, <span style=\"color: #00af00; text-decoration-color: #00af00\">15</span>)             │           <span style=\"color: #00af00; text-decoration-color: #00af00\">495</span> │\n",
       "└─────────────────────────────────┴────────────────────────┴───────────────┘\n",
       "</pre>\n"
      ],
      "text/plain": [
       "┏━━━━━━━━━━━━━━━━━━━━━━━━━━━━━━━━━┳━━━━━━━━━━━━━━━━━━━━━━━━┳━━━━━━━━━━━━━━━┓\n",
       "┃\u001b[1m \u001b[0m\u001b[1mLayer (type)                   \u001b[0m\u001b[1m \u001b[0m┃\u001b[1m \u001b[0m\u001b[1mOutput Shape          \u001b[0m\u001b[1m \u001b[0m┃\u001b[1m \u001b[0m\u001b[1m      Param #\u001b[0m\u001b[1m \u001b[0m┃\n",
       "┡━━━━━━━━━━━━━━━━━━━━━━━━━━━━━━━━━╇━━━━━━━━━━━━━━━━━━━━━━━━╇━━━━━━━━━━━━━━━┩\n",
       "│ dense (\u001b[38;5;33mDense\u001b[0m)                   │ (\u001b[38;5;45mNone\u001b[0m, \u001b[38;5;34m128\u001b[0m)            │           \u001b[38;5;34m256\u001b[0m │\n",
       "├─────────────────────────────────┼────────────────────────┼───────────────┤\n",
       "│ dropout (\u001b[38;5;33mDropout\u001b[0m)               │ (\u001b[38;5;45mNone\u001b[0m, \u001b[38;5;34m128\u001b[0m)            │             \u001b[38;5;34m0\u001b[0m │\n",
       "├─────────────────────────────────┼────────────────────────┼───────────────┤\n",
       "│ dense_1 (\u001b[38;5;33mDense\u001b[0m)                 │ (\u001b[38;5;45mNone\u001b[0m, \u001b[38;5;34m64\u001b[0m)             │         \u001b[38;5;34m8,256\u001b[0m │\n",
       "├─────────────────────────────────┼────────────────────────┼───────────────┤\n",
       "│ dropout_1 (\u001b[38;5;33mDropout\u001b[0m)             │ (\u001b[38;5;45mNone\u001b[0m, \u001b[38;5;34m64\u001b[0m)             │             \u001b[38;5;34m0\u001b[0m │\n",
       "├─────────────────────────────────┼────────────────────────┼───────────────┤\n",
       "│ dense_2 (\u001b[38;5;33mDense\u001b[0m)                 │ (\u001b[38;5;45mNone\u001b[0m, \u001b[38;5;34m64\u001b[0m)             │         \u001b[38;5;34m4,160\u001b[0m │\n",
       "├─────────────────────────────────┼────────────────────────┼───────────────┤\n",
       "│ dropout_2 (\u001b[38;5;33mDropout\u001b[0m)             │ (\u001b[38;5;45mNone\u001b[0m, \u001b[38;5;34m64\u001b[0m)             │             \u001b[38;5;34m0\u001b[0m │\n",
       "├─────────────────────────────────┼────────────────────────┼───────────────┤\n",
       "│ dense_3 (\u001b[38;5;33mDense\u001b[0m)                 │ (\u001b[38;5;45mNone\u001b[0m, \u001b[38;5;34m32\u001b[0m)             │         \u001b[38;5;34m2,080\u001b[0m │\n",
       "├─────────────────────────────────┼────────────────────────┼───────────────┤\n",
       "│ dense_4 (\u001b[38;5;33mDense\u001b[0m)                 │ (\u001b[38;5;45mNone\u001b[0m, \u001b[38;5;34m32\u001b[0m)             │         \u001b[38;5;34m1,056\u001b[0m │\n",
       "├─────────────────────────────────┼────────────────────────┼───────────────┤\n",
       "│ dense_5 (\u001b[38;5;33mDense\u001b[0m)                 │ (\u001b[38;5;45mNone\u001b[0m, \u001b[38;5;34m15\u001b[0m)             │           \u001b[38;5;34m495\u001b[0m │\n",
       "└─────────────────────────────────┴────────────────────────┴───────────────┘\n"
      ]
     },
     "metadata": {},
     "output_type": "display_data"
    },
    {
     "data": {
      "text/html": [
       "<pre style=\"white-space:pre;overflow-x:auto;line-height:normal;font-family:Menlo,'DejaVu Sans Mono',consolas,'Courier New',monospace\"><span style=\"font-weight: bold\"> Total params: </span><span style=\"color: #00af00; text-decoration-color: #00af00\">16,303</span> (63.68 KB)\n",
       "</pre>\n"
      ],
      "text/plain": [
       "\u001b[1m Total params: \u001b[0m\u001b[38;5;34m16,303\u001b[0m (63.68 KB)\n"
      ]
     },
     "metadata": {},
     "output_type": "display_data"
    },
    {
     "data": {
      "text/html": [
       "<pre style=\"white-space:pre;overflow-x:auto;line-height:normal;font-family:Menlo,'DejaVu Sans Mono',consolas,'Courier New',monospace\"><span style=\"font-weight: bold\"> Trainable params: </span><span style=\"color: #00af00; text-decoration-color: #00af00\">16,303</span> (63.68 KB)\n",
       "</pre>\n"
      ],
      "text/plain": [
       "\u001b[1m Trainable params: \u001b[0m\u001b[38;5;34m16,303\u001b[0m (63.68 KB)\n"
      ]
     },
     "metadata": {},
     "output_type": "display_data"
    },
    {
     "data": {
      "text/html": [
       "<pre style=\"white-space:pre;overflow-x:auto;line-height:normal;font-family:Menlo,'DejaVu Sans Mono',consolas,'Courier New',monospace\"><span style=\"font-weight: bold\"> Non-trainable params: </span><span style=\"color: #00af00; text-decoration-color: #00af00\">0</span> (0.00 B)\n",
       "</pre>\n"
      ],
      "text/plain": [
       "\u001b[1m Non-trainable params: \u001b[0m\u001b[38;5;34m0\u001b[0m (0.00 B)\n"
      ]
     },
     "metadata": {},
     "output_type": "display_data"
    }
   ],
   "source": [
    "model = create_model((1,), summary=True)"
   ]
  },
  {
   "cell_type": "code",
   "execution_count": 17,
   "metadata": {},
   "outputs": [],
   "source": [
    "def plot_train(results):\n",
    "    \n",
    "    train_loss = results.history['loss']\n",
    "    val_loss = results.history['val_loss']\n",
    "    train_accuracy = results.history['accuracy']\n",
    "    val_accuracy = results.history['val_accuracy']\n",
    "    \n",
    "    t = np.arange(len(train_accuracy))\n",
    "    \n",
    "    print('Stopped at epoch ', len(train_accuracy))\n",
    "    \n",
    "    fig, (ax1, ax2, ax3, ax4) = plt.subplots(1, 4, figsize=(15, 5))\n",
    "\n",
    "    ax1.plot(t, train_loss, 'b')\n",
    "    ax1.set_title('Train loss')\n",
    "    ax1.set_xlabel('Epochs')\n",
    "    ax1.set_ylabel('Loss')\n",
    "\n",
    "    ax2.plot(t, val_loss, 'g')\n",
    "    ax2.set_title('Validation loss')\n",
    "    ax2.set_xlabel('Epochs')\n",
    "    ax2.set_ylabel('Loss')\n",
    "\n",
    "    ax3.plot(t, train_accuracy, 'b')\n",
    "    ax3.set_title('Training accuracy')\n",
    "    ax3.set_xlabel('Epochs')\n",
    "    ax3.set_ylabel('Accuracy')\n",
    "\n",
    "    ax4.plot(t, val_accuracy, 'g')\n",
    "    ax4.set_title('Validation accuracy')\n",
    "    ax4.set_xlabel('Epochs')\n",
    "    ax4.set_ylabel('Accuracy')\n",
    "\n",
    "    # Adjust layout for better spacing\n",
    "    plt.tight_layout()\n",
    "\n",
    "    # Display the plot\n",
    "    plt.show()"
   ]
  },
  {
   "cell_type": "code",
   "execution_count": 18,
   "metadata": {},
   "outputs": [],
   "source": [
    "use_object = True\n",
    "use_kpoints = True"
   ]
  },
  {
   "cell_type": "code",
   "execution_count": 19,
   "metadata": {
    "scrolled": false
   },
   "outputs": [],
   "source": [
    "# Number of folds\n",
    "model_selection = False\n",
    "if model_selection:\n",
    "    n_splits = 5\n",
    "    batch_s = 32\n",
    "    index = 1\n",
    "\n",
    "    # KFold cross-validation\n",
    "    kf = KFold(n_splits=n_splits, shuffle=True, random_state=42)\n",
    "\n",
    "    accuracy_per_fold = []\n",
    "    conf_matrix = np.zeros((15,15))\n",
    "\n",
    "    epochs_per_fold = []\n",
    "\n",
    "    for train_index, val_index in kf.split(train_df):\n",
    "        \n",
    "        print(\"Starting Fold Number \", index)\n",
    "        print()\n",
    "        \n",
    "        index += 1      \n",
    "        \n",
    "        df_train, df_val = train_df.iloc[train_index], train_df.iloc[val_index]\n",
    "        \n",
    "        # Convert to TensorFlow datasets\n",
    "        train_dataset, inp_shape = create_dataset(df_train, batch_s, use_kpoints=use_kpoints, use_object=use_object)\n",
    "        val_dataset, _ = create_dataset(df_val, batch_s, use_kpoints=use_kpoints, use_object=use_object)\n",
    "        \n",
    "        print(\"Fitting the model:\")\n",
    "        print()\n",
    "        \n",
    "        start = time.time()\n",
    "        \n",
    "        # Create a new instance of the model\n",
    "        model = create_model(input_shape=inp_shape)\n",
    "        \n",
    "        early_stop_callback = tf.keras.callbacks.EarlyStopping(monitor='val_loss', patience=10)\n",
    "\n",
    "        results = model.fit(train_dataset,\n",
    "                            epochs=1000,\n",
    "                            validation_data=val_dataset, \n",
    "                            callbacks=[early_stop_callback], verbose = 0)\n",
    "        \n",
    "        epochs = len(results.history['loss'])\n",
    "        epochs_per_fold.append(epochs)\n",
    "\n",
    "        end = time.time()\n",
    "        print('Training time: ', round(end-start,2), \" s\")\n",
    "        \n",
    "        plot_train(results)\n",
    "        \n",
    "        # compute predicted labels\n",
    "        output_vector = model.predict(val_dataset)\n",
    "        predicted_labels = np.argmax(output_vector[:,:], axis=1)\n",
    "\n",
    "        extracted_labels = []\n",
    "        for _, label in val_dataset:\n",
    "            extracted_labels.extend(label.numpy().tolist())\n",
    "\n",
    "        true_labels = np.array(extracted_labels)\n",
    "        \n",
    "        # compute the confusion matrix\n",
    "        cm = confusion_matrix(true_labels, predicted_labels)\n",
    "        #print(cm)\n",
    "        conf_matrix = conf_matrix + cm\n",
    "        \n",
    "        # Evaluate the model\n",
    "        val_loss, val_accuracy = model.evaluate(val_dataset)\n",
    "        accuracy_per_fold.append(val_accuracy)\n",
    "        \n",
    "        print()\n",
    "        print('-----------------------------------------------------------------')\n",
    "        print()\n",
    "\n",
    "    avg_epochs = np.mean(epochs_per_fold)\n",
    "else:\n",
    "    avg_epochs = 60"
   ]
  },
  {
   "cell_type": "markdown",
   "metadata": {},
   "source": [
    "### Analyze the results"
   ]
  },
  {
   "cell_type": "code",
   "execution_count": 20,
   "metadata": {},
   "outputs": [],
   "source": [
    "# get the label from the category\n",
    "labels = df.groupby('category').first()['label']\n",
    "labels = np.array(labels).tolist()\n",
    "labels[9] = 'music'"
   ]
  },
  {
   "cell_type": "code",
   "execution_count": 21,
   "metadata": {},
   "outputs": [],
   "source": [
    "# Define a function to plot the confusion matrix\n",
    "def plot_confusion_matrix(cm, threshold=0.1):\n",
    "    #normalize cm\n",
    "    cm_normalized = cm.astype('float') / cm.sum(axis=1)[:, np.newaxis]\n",
    "    \n",
    "    plt.figure(figsize=(11, 6))\n",
    "    ax = sns.heatmap(cm_normalized, annot=False, cmap='Greens', vmin=0, vmax=1, cbar=True, xticklabels=labels, yticklabels=labels)\n",
    "    \n",
    "    # Annotate only the main diagonal with rounded values\n",
    "    for i in range(cm.shape[0]):\n",
    "        for j in range(cm.shape[1]):\n",
    "            if i == j or cm_normalized[i, j] > threshold:\n",
    "                if cm_normalized[i, j] < 0.7:\n",
    "                    ax.text(j + 0.5, i + 0.5, f'{cm_normalized[i, j]:.2f}', \n",
    "                            ha='center', va='center', color='black', fontsize=14)\n",
    "                else:\n",
    "                    ax.text(j + 0.5, i + 0.5, f'{cm_normalized[i, j]:.2f}', \n",
    "                            ha='center', va='center', color='white', fontsize=14)    \n",
    "                \n",
    "    # Labels, title and axes\n",
    "    ax.set_title(\"Neural Network\")\n",
    "    ax.set_xlabel('Predicted labels', fontsize = 14)\n",
    "    ax.set_ylabel('True labels', fontsize = 14)\n",
    "    plt.xticks(rotation=60)\n",
    "    \n",
    "    plt.show()"
   ]
  },
  {
   "cell_type": "code",
   "execution_count": 22,
   "metadata": {},
   "outputs": [],
   "source": [
    "if model_selection:\n",
    "    plot_confusion_matrix(conf_matrix)"
   ]
  },
  {
   "cell_type": "code",
   "execution_count": 23,
   "metadata": {},
   "outputs": [],
   "source": [
    "def class_specific_metrics(cm, class_labels = labels):\n",
    "    # Compute the confusion matrix\n",
    "\n",
    "    # Initialize dictionaries to hold metrics for each class\n",
    "    accuracy = {}\n",
    "    sensitivity = {}\n",
    "    specificity = {}\n",
    "    precision = {}\n",
    "\n",
    "    for idx, label in enumerate(class_labels):\n",
    "        # True positives\n",
    "        TP = cm[idx, idx]\n",
    "\n",
    "        # False positives\n",
    "        FP = cm[:, idx].sum() - TP\n",
    "\n",
    "        # False negatives\n",
    "        FN = cm[idx, :].sum() - TP\n",
    "\n",
    "        # True negatives\n",
    "        TN = cm.sum() - (TP + FP + FN)\n",
    "\n",
    "        # Calculate metrics\n",
    "        accuracy[label] = (TP + TN) / cm.sum()\n",
    "        sensitivity[label] = TP / (TP + FN) if (TP + FN) != 0 else 0\n",
    "        specificity[label] = TN / (TN + FP) if (TN + FP) != 0 else 0\n",
    "        precision[label] = TP / (TP + FP) if (TP + FP) != 0 else 0\n",
    "\n",
    "    metrics_dict = {label: {'Accuracy': accuracy[label],\n",
    "                        'Sensitivity': sensitivity[label],\n",
    "                        'Specificity': specificity[label],\n",
    "                        'Precision': precision[label]}\n",
    "                    for label in class_labels}\n",
    "\n",
    "    # Convert the dictionary to a pandas DataFrame\n",
    "    df_metrics = pd.DataFrame.from_dict(metrics_dict, orient='index')\n",
    "    df_metrics\n",
    "\n",
    "    return df_metrics"
   ]
  },
  {
   "cell_type": "code",
   "execution_count": 24,
   "metadata": {},
   "outputs": [],
   "source": [
    "if model_selection:\n",
    "    val_metrics = class_specific_metrics(conf_matrix)\n",
    "    val_metrics"
   ]
  },
  {
   "cell_type": "markdown",
   "metadata": {},
   "source": [
    "### Fit of the selected model on the training set"
   ]
  },
  {
   "cell_type": "code",
   "execution_count": 28,
   "metadata": {},
   "outputs": [
    {
     "data": {
      "image/png": "[encoded data removed]",
      "text/plain": [
       "<Figure size 640x480 with 1 Axes>"
      ]
     },
     "metadata": {},
     "output_type": "display_data"
    },
    {
     "data": {
      "image/png": "[encoded data removed]",
      "text/plain": [
       "<Figure size 640x480 with 1 Axes>"
      ]
     },
     "metadata": {},
     "output_type": "display_data"
    }
   ],
   "source": [
    "# fit the model on the whole training set\n",
    "batch_s = 32\n",
    "train_dataset, inp_shape = create_dataset(train_df, batch_s, use_kpoints=use_kpoints, use_object=use_object)\n",
    "\n",
    "model = create_model(input_shape=inp_shape)\n",
    "\n",
    "results = model.fit(train_dataset,\n",
    "                    epochs=int(avg_epochs), verbose=0)\n",
    "\n",
    "train_loss = results.history['loss']\n",
    "train_accuracy = results.history['accuracy']\n",
    "\n",
    "plt.plot(train_loss, 'b')\n",
    "plt.title('Train loss')\n",
    "plt.xlabel('Epochs')\n",
    "plt.ylabel('Loss')\n",
    "plt.show()\n",
    "\n",
    "plt.plot(train_accuracy, 'b')\n",
    "plt.title('Training accuracy')\n",
    "plt.xlabel('Epochs')\n",
    "plt.ylabel('Accuracy')\n",
    "plt.show()"
   ]
  },
  {
   "cell_type": "markdown",
   "metadata": {},
   "source": [
    "### Test "
   ]
  },
  {
   "cell_type": "code",
   "execution_count": 29,
   "metadata": {},
   "outputs": [
    {
     "name": "stdout",
     "output_type": "stream",
     "text": [
      "\u001b[1m79/79\u001b[0m \u001b[32m━━━━━━━━━━━━━━━━━━━━\u001b[0m\u001b[37m\u001b[0m \u001b[1m0s\u001b[0m 838us/step - accuracy: 0.5714 - loss: 1.3438\n",
      "Test accuracy: 0.5516\n",
      "\u001b[1m79/79\u001b[0m \u001b[32m━━━━━━━━━━━━━━━━━━━━\u001b[0m\u001b[37m\u001b[0m \u001b[1m0s\u001b[0m 1ms/step\n"
     ]
    },
    {
     "name": "stderr",
     "output_type": "stream",
     "text": [
      "2024-08-23 12:38:52.308802: I tensorflow/core/framework/local_rendezvous.cc:404] Local rendezvous is aborting with status: OUT_OF_RANGE: End of sequence\n"
     ]
    },
    {
     "data": {
      "image/png": "[encoded data removed]",
      "text/plain": [
       "<Figure size 1100x600 with 2 Axes>"
      ]
     },
     "metadata": {},
     "output_type": "display_data"
    },
    {
     "data": {
      "text/html": [
       "<div>\n",
       "<style scoped>\n",
       "    .dataframe tbody tr th:only-of-type {\n",
       "        vertical-align: middle;\n",
       "    }\n",
       "\n",
       "    .dataframe tbody tr th {\n",
       "        vertical-align: top;\n",
       "    }\n",
       "\n",
       "    .dataframe thead th {\n",
       "        text-align: right;\n",
       "    }\n",
       "</style>\n",
       "<table border=\"1\" class=\"dataframe\">\n",
       "  <thead>\n",
       "    <tr style=\"text-align: right;\">\n",
       "      <th></th>\n",
       "      <th>Accuracy</th>\n",
       "      <th>Sensitivity</th>\n",
       "      <th>Specificity</th>\n",
       "      <th>Precision</th>\n",
       "    </tr>\n",
       "  </thead>\n",
       "  <tbody>\n",
       "    <tr>\n",
       "      <th>calling</th>\n",
       "      <td>0.888492</td>\n",
       "      <td>0.488095</td>\n",
       "      <td>0.917092</td>\n",
       "      <td>0.296029</td>\n",
       "    </tr>\n",
       "    <tr>\n",
       "      <th>clapping</th>\n",
       "      <td>0.933333</td>\n",
       "      <td>0.482143</td>\n",
       "      <td>0.965561</td>\n",
       "      <td>0.500000</td>\n",
       "    </tr>\n",
       "    <tr>\n",
       "      <th>cycling</th>\n",
       "      <td>0.986905</td>\n",
       "      <td>0.934524</td>\n",
       "      <td>0.990646</td>\n",
       "      <td>0.877095</td>\n",
       "    </tr>\n",
       "    <tr>\n",
       "      <th>dancing</th>\n",
       "      <td>0.949206</td>\n",
       "      <td>0.464286</td>\n",
       "      <td>0.983844</td>\n",
       "      <td>0.672414</td>\n",
       "    </tr>\n",
       "    <tr>\n",
       "      <th>drinking</th>\n",
       "      <td>0.945635</td>\n",
       "      <td>0.583333</td>\n",
       "      <td>0.971514</td>\n",
       "      <td>0.593939</td>\n",
       "    </tr>\n",
       "    <tr>\n",
       "      <th>eating</th>\n",
       "      <td>0.960317</td>\n",
       "      <td>0.755952</td>\n",
       "      <td>0.974915</td>\n",
       "      <td>0.682796</td>\n",
       "    </tr>\n",
       "    <tr>\n",
       "      <th>fighting</th>\n",
       "      <td>0.922619</td>\n",
       "      <td>0.755952</td>\n",
       "      <td>0.934524</td>\n",
       "      <td>0.451957</td>\n",
       "    </tr>\n",
       "    <tr>\n",
       "      <th>hugging</th>\n",
       "      <td>0.938889</td>\n",
       "      <td>0.416667</td>\n",
       "      <td>0.976190</td>\n",
       "      <td>0.555556</td>\n",
       "    </tr>\n",
       "    <tr>\n",
       "      <th>laughing</th>\n",
       "      <td>0.944048</td>\n",
       "      <td>0.517857</td>\n",
       "      <td>0.974490</td>\n",
       "      <td>0.591837</td>\n",
       "    </tr>\n",
       "    <tr>\n",
       "      <th>music</th>\n",
       "      <td>0.915476</td>\n",
       "      <td>0.196429</td>\n",
       "      <td>0.966837</td>\n",
       "      <td>0.297297</td>\n",
       "    </tr>\n",
       "    <tr>\n",
       "      <th>running</th>\n",
       "      <td>0.949603</td>\n",
       "      <td>0.583333</td>\n",
       "      <td>0.975765</td>\n",
       "      <td>0.632258</td>\n",
       "    </tr>\n",
       "    <tr>\n",
       "      <th>sitting</th>\n",
       "      <td>0.939683</td>\n",
       "      <td>0.428571</td>\n",
       "      <td>0.976190</td>\n",
       "      <td>0.562500</td>\n",
       "    </tr>\n",
       "    <tr>\n",
       "      <th>sleeping</th>\n",
       "      <td>0.960317</td>\n",
       "      <td>0.714286</td>\n",
       "      <td>0.977891</td>\n",
       "      <td>0.697674</td>\n",
       "    </tr>\n",
       "    <tr>\n",
       "      <th>texting</th>\n",
       "      <td>0.928175</td>\n",
       "      <td>0.315476</td>\n",
       "      <td>0.971939</td>\n",
       "      <td>0.445378</td>\n",
       "    </tr>\n",
       "    <tr>\n",
       "      <th>using_laptop</th>\n",
       "      <td>0.940476</td>\n",
       "      <td>0.636905</td>\n",
       "      <td>0.962160</td>\n",
       "      <td>0.545918</td>\n",
       "    </tr>\n",
       "  </tbody>\n",
       "</table>\n",
       "</div>"
      ],
      "text/plain": [
       "              Accuracy  Sensitivity  Specificity  Precision\n",
       "calling       0.888492     0.488095     0.917092   0.296029\n",
       "clapping      0.933333     0.482143     0.965561   0.500000\n",
       "cycling       0.986905     0.934524     0.990646   0.877095\n",
       "dancing       0.949206     0.464286     0.983844   0.672414\n",
       "drinking      0.945635     0.583333     0.971514   0.593939\n",
       "eating        0.960317     0.755952     0.974915   0.682796\n",
       "fighting      0.922619     0.755952     0.934524   0.451957\n",
       "hugging       0.938889     0.416667     0.976190   0.555556\n",
       "laughing      0.944048     0.517857     0.974490   0.591837\n",
       "music         0.915476     0.196429     0.966837   0.297297\n",
       "running       0.949603     0.583333     0.975765   0.632258\n",
       "sitting       0.939683     0.428571     0.976190   0.562500\n",
       "sleeping      0.960317     0.714286     0.977891   0.697674\n",
       "texting       0.928175     0.315476     0.971939   0.445378\n",
       "using_laptop  0.940476     0.636905     0.962160   0.545918"
      ]
     },
     "execution_count": 29,
     "metadata": {},
     "output_type": "execute_result"
    }
   ],
   "source": [
    "# Evaluate the model on the test set\n",
    "\n",
    "test_dataset, _ = create_dataset(test_df, batch_s, use_kpoints=use_kpoints, use_object=use_object)\n",
    "\n",
    "test_loss, test_accuracy = model.evaluate(test_dataset)\n",
    "\n",
    "print(f'Test accuracy: {test_accuracy:.4f}')\n",
    "\n",
    "# compute predicted labels\n",
    "output_vector = model.predict(test_dataset)\n",
    "predicted_labels = np.argmax(output_vector[:,:], axis=1)\n",
    "\n",
    "extracted_labels = []\n",
    "for _, label in test_dataset:\n",
    "    extracted_labels.extend(label.numpy().tolist())\n",
    "\n",
    "true_labels = np.array(extracted_labels)\n",
    "\n",
    "# compute the confusion matrix\n",
    "cm = confusion_matrix(true_labels, predicted_labels)\n",
    "\n",
    "plot_confusion_matrix(cm)\n",
    "\n",
    "test_metrics = class_specific_metrics(cm)\n",
    "test_metrics"
   ]
  },
  {
   "cell_type": "markdown",
   "metadata": {},
   "source": [
    "Accuracy = (true positive + true negative) / total\n",
    "\n",
    "Sensitivity = true positive / (true positive + false negative)\n",
    "\n",
    "Specificity = true negative / (true negative + false positive)\n",
    "\n",
    "Precision = true positive / (true positive + false positive)"
   ]
  },
  {
   "cell_type": "code",
   "execution_count": 31,
   "metadata": {},
   "outputs": [],
   "source": [
    "# helper function\n",
    "def fitFFNN(file_name, use_kpoints=True, use_object=True):\n",
    "    \n",
    "    df = pd.read_pickle(data_directory + '/' + file_name + '.pkl')\n",
    "\n",
    "    # apply the function to the dataframe\n",
    "    df['keypoints'] = df['keypoints'].apply(lambda x: np.array(x))\n",
    "    df['object'] = df['object'].apply(lambda x: np.array(x).reshape(-1, 1))\n",
    "    df['obj_vector'] = df['obj_vector'].apply(lambda x: np.array(x))\n",
    "    df['category'] = df['category'].apply(lambda x: np.array(x))\n",
    "    df['obj_input'] = df.apply(lambda x: np.sum(x['object']*x['obj_vector'], axis=0), axis=1)\n",
    "    df['keypoints'] = df['keypoints'].apply(lambda x: x.flatten())\n",
    "    \n",
    "    print('Loaded dataset ', file_name)\n",
    "    \n",
    "    train_df, test_df = train_test_split_df(df, 0.2)\n",
    "\n",
    "    train_dataset, train_shape = create_dataset(train_df, use_kpoints=use_kpoints, use_object=use_object, batch_size=32)\n",
    "    test_dataset, test_shape = create_dataset(test_df, use_kpoints=use_kpoints, use_object=use_object, batch_size=32)\n",
    "\n",
    "    # Create a new instance of the model\n",
    "    model = create_model(input_shape=train_shape)\n",
    "\n",
    "    # Train the model\n",
    "    results = model.fit(train_dataset, epochs=avg_epochs, verbose=0)\n",
    "    \n",
    "    # compute predicted labels\n",
    "    output_vector = model.predict(test_dataset)\n",
    "    predicted_labels = np.argmax(output_vector[:,:], axis=1)\n",
    "\n",
    "    extracted_labels = []\n",
    "    for _, label in test_dataset:\n",
    "        extracted_labels.extend(label.numpy().tolist())\n",
    "\n",
    "    true_labels = np.array(extracted_labels)\n",
    "    \n",
    "    # compute the confusion matrix\n",
    "    cm = confusion_matrix(true_labels, predicted_labels)\n",
    "    \n",
    "    # Evaluate the model\n",
    "    val_accuracy = accuracy_score(true_labels, predicted_labels)\n",
    "    print(\"Accuracy:\", round(val_accuracy,3))\n",
    "    \n",
    "    plot_confusion_matrix(cm)\n",
    "    \n",
    "    test_metrics = class_specific_metrics(cm)\n",
    "    print(test_metrics)"
   ]
  },
  {
   "cell_type": "code",
   "execution_count": 32,
   "metadata": {},
   "outputs": [
    {
     "name": "stdout",
     "output_type": "stream",
     "text": [
      "Loaded dataset  movenet_thunder_mobilenet_large\n",
      "\u001b[1m79/79\u001b[0m \u001b[32m━━━━━━━━━━━━━━━━━━━━\u001b[0m\u001b[37m\u001b[0m \u001b[1m0s\u001b[0m 1ms/step\n",
      "Accuracy: 0.544\n"
     ]
    },
    {
     "name": "stderr",
     "output_type": "stream",
     "text": [
      "2024-08-23 16:50:14.509154: I tensorflow/core/framework/local_rendezvous.cc:404] Local rendezvous is aborting with status: OUT_OF_RANGE: End of sequence\n"
     ]
    },
    {
     "ename": "TypeError",
     "evalue": "plot_confusion_matrix() got an unexpected keyword argument 'val'",
     "output_type": "error",
     "traceback": [
      "\u001b[0;31m---------------------------------------------------------------------------\u001b[0m",
      "\u001b[0;31mTypeError\u001b[0m                                 Traceback (most recent call last)",
      "Cell \u001b[0;32mIn[32], line 1\u001b[0m\n\u001b[0;32m----> 1\u001b[0m \u001b[43mfitFFNN\u001b[49m\u001b[43m(\u001b[49m\u001b[38;5;124;43m'\u001b[39;49m\u001b[38;5;124;43mmovenet_thunder_mobilenet_large\u001b[39;49m\u001b[38;5;124;43m'\u001b[39;49m\u001b[43m)\u001b[49m\n",
      "Cell \u001b[0;32mIn[31], line 44\u001b[0m, in \u001b[0;36mfitFFNN\u001b[0;34m(file_name, use_kpoints, use_object)\u001b[0m\n\u001b[1;32m     41\u001b[0m val_accuracy \u001b[38;5;241m=\u001b[39m accuracy_score(true_labels, predicted_labels)\n\u001b[1;32m     42\u001b[0m \u001b[38;5;28mprint\u001b[39m(\u001b[38;5;124m\"\u001b[39m\u001b[38;5;124mAccuracy:\u001b[39m\u001b[38;5;124m\"\u001b[39m, \u001b[38;5;28mround\u001b[39m(val_accuracy,\u001b[38;5;241m3\u001b[39m))\n\u001b[0;32m---> 44\u001b[0m \u001b[43mplot_confusion_matrix\u001b[49m\u001b[43m(\u001b[49m\u001b[43mcm\u001b[49m\u001b[43m,\u001b[49m\u001b[43m \u001b[49m\u001b[43mval\u001b[49m\u001b[38;5;241;43m=\u001b[39;49m\u001b[38;5;28;43;01mFalse\u001b[39;49;00m\u001b[43m)\u001b[49m\n\u001b[1;32m     46\u001b[0m test_metrics \u001b[38;5;241m=\u001b[39m class_specific_metrics(cm)\n\u001b[1;32m     47\u001b[0m \u001b[38;5;28mprint\u001b[39m(test_metrics)\n",
      "\u001b[0;31mTypeError\u001b[0m: plot_confusion_matrix() got an unexpected keyword argument 'val'"
     ]
    }
   ],
   "source": [
    "fitFFNN('movenet_thunder_mobilenet_large')"
   ]
  },
  {
   "cell_type": "code",
   "execution_count": null,
   "metadata": {},
   "outputs": [],
   "source": []
  }
 ],
 "metadata": {
  "kernelspec": {
   "display_name": "Python 3 (ipykernel)",
   "language": "python",
   "name": "python3"
  },
  "language_info": {
   "codemirror_mode": {
    "name": "ipython",
    "version": 3
   },
   "file_extension": ".py",
   "mimetype": "text/x-python",
   "name": "python",
   "nbconvert_exporter": "python",
   "pygments_lexer": "ipython3",
   "version": "3.10.12"
  }
 },
 "nbformat": 4,
 "nbformat_minor": 2
}
